{
 "cells": [
  {
   "cell_type": "markdown",
   "metadata": {},
   "source": [
    "# 연습문제1"
   ]
  },
  {
   "cell_type": "markdown",
   "metadata": {},
   "source": [
    "[입력]<br>\n",
    "① 첫 번째 줄에 한 문장을 입력한다.(100글자 이내)\n",
    "\n",
    "② 문장에는 띄어쓰기도 입력할 수 있다.\n",
    "\n",
    "③ 모든 문자는 알파벳 대문자, 소문자, 공백문자로만 이루어진다.\n",
    "\n",
    "[출력]<br>\n",
    " 입력받은 문장을 뒤집어서 출력한다."
   ]
  },
  {
   "cell_type": "code",
   "execution_count": 5,
   "metadata": {},
   "outputs": [
    {
     "name": "stdout",
     "output_type": "stream",
     "text": [
      "test\n",
      "tset\n"
     ]
    }
   ],
   "source": [
    "print(input()[::-1])"
   ]
  },
  {
   "cell_type": "markdown",
   "metadata": {},
   "source": [
    "# 연습문제2"
   ]
  },
  {
   "cell_type": "markdown",
   "metadata": {},
   "source": [
    "[입력]<br>\n",
    "개수<br>\n",
    "갯수만큼 숫자를 입력한다. <br>\n",
    "\n",
    "[출력]<br>\n",
    "입력된 숫자 중 5의 배수만 더해 합을 출력한다<br>"
   ]
  },
  {
   "cell_type": "code",
   "execution_count": 16,
   "metadata": {},
   "outputs": [
    {
     "name": "stdout",
     "output_type": "stream",
     "text": [
      "3\n",
      "5 10 7\n",
      "15\n"
     ]
    }
   ],
   "source": [
    "input()\n",
    "nums = list(map(int, input().split(' ')))\n",
    "\n",
    "sum = 0\n",
    "for num in list(filter(lambda n: n % 5 == 0, nums)):\n",
    "    sum += num\n",
    "        \n",
    "print(sum)"
   ]
  },
  {
   "cell_type": "markdown",
   "metadata": {},
   "source": [
    "# 연습문제3"
   ]
  },
  {
   "cell_type": "markdown",
   "metadata": {},
   "source": [
    "[입력]<br>\n",
    "개수<br>\n",
    "갯수만큼 숫자를 입력한다. <br>\n",
    "\n",
    "[출력]<br>\n",
    "입력된 숫자 중 제일 큰 수와 작은 수를 출력한다."
   ]
  },
  {
   "cell_type": "code",
   "execution_count": 13,
   "metadata": {},
   "outputs": [
    {
     "name": "stdout",
     "output_type": "stream",
     "text": [
      "5\n",
      "1 5 6 7 8\n",
      "8 1\n"
     ]
    }
   ],
   "source": [
    "input()\n",
    "nums = list(map(int, input().split(' ')))\n",
    "print(max(nums), min(nums))"
   ]
  },
  {
   "cell_type": "markdown",
   "metadata": {},
   "source": [
    "# 연습문제4"
   ]
  },
  {
   "cell_type": "markdown",
   "metadata": {},
   "source": [
    "[입력]<br>\n",
    "개수를 입력한다<br>\n",
    "\n",
    "\n",
    "[출력]<br>\n",
    "입력된 개수만큼 계단식으로 출력한다."
   ]
  },
  {
   "cell_type": "code",
   "execution_count": 22,
   "metadata": {},
   "outputs": [
    {
     "name": "stdout",
     "output_type": "stream",
     "text": [
      "5\n",
      "**\n",
      " **\n",
      "  **\n",
      "   **\n",
      "    **\n"
     ]
    }
   ],
   "source": [
    "n = int(input())\n",
    "\n",
    "for i in range(n):\n",
    "    print(' ' * i + '**')"
   ]
  },
  {
   "cell_type": "markdown",
   "metadata": {},
   "source": [
    "# 연습문제5"
   ]
  },
  {
   "cell_type": "markdown",
   "metadata": {},
   "source": [
    "[입력]<br>\n",
    "첫 번째 줄에 출석 번호를 부른 횟수인 정수 n이 입력된다. (1 ~ 10000)<br>\n",
    "두 번째 줄에는 무작위로 부른 n개의 번호(1 ~ 23)가 공백을 두고 순서대로 입력된다.<br>\n",
    "\n",
    "[출력]<br>\n",
    "1번부터 번호가 불린 횟수를 순서대로 공백으로 구분하여 한 줄로 출력한다.<br>\n"
   ]
  },
  {
   "cell_type": "code",
   "execution_count": 21,
   "metadata": {},
   "outputs": [
    {
     "name": "stdout",
     "output_type": "stream",
     "text": [
      "10\n",
      "1 3 2 2 4 5 8 9 10 7\n",
      "1 2 1 1 1 0 1 1 1 1 0 0 0 0 0 0 0 0 0 0 0 0 0\n"
     ]
    }
   ],
   "source": [
    "input()\n",
    "arr = []\n",
    "\n",
    "for _ in range(23):\n",
    "    arr.append(0)\n",
    "    \n",
    "nums = list(map(int, input().split(' ')))\n",
    "for i in range(len(nums)):\n",
    "    arr[nums[i] - 1] += 1\n",
    "\n",
    "print(' '.join(map(str, arr)))"
   ]
  },
  {
   "cell_type": "code",
   "execution_count": null,
   "metadata": {},
   "outputs": [],
   "source": []
  },
  {
   "cell_type": "code",
   "execution_count": null,
   "metadata": {},
   "outputs": [],
   "source": []
  },
  {
   "cell_type": "code",
   "execution_count": null,
   "metadata": {},
   "outputs": [],
   "source": []
  }
 ],
 "metadata": {
  "kernelspec": {
   "display_name": "Python 3",
   "language": "python",
   "name": "python3"
  },
  "language_info": {
   "codemirror_mode": {
    "name": "ipython",
    "version": 3
   },
   "file_extension": ".py",
   "mimetype": "text/x-python",
   "name": "python",
   "nbconvert_exporter": "python",
   "pygments_lexer": "ipython3",
   "version": "3.8.8"
  }
 },
 "nbformat": 4,
 "nbformat_minor": 2
}
