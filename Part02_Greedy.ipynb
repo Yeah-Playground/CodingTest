{
 "cells": [
  {
   "cell_type": "code",
   "execution_count": 12,
   "id": "a41e03dd",
   "metadata": {},
   "outputs": [
    {
     "name": "stdout",
     "output_type": "stream",
     "text": [
      "5 8 3\n",
      "2 4 5 4 6\n",
      "46\n"
     ]
    }
   ],
   "source": [
    "# 21.11.6 큰 수의 법칙\n",
    "# 단순한 방법\n",
    "n, m, k = map(int, input().split())\n",
    "nums = list(map(int, input().split()))\n",
    "nums.sort(reverse=True)\n",
    "\n",
    "sum = 0\n",
    "iterated = 0\n",
    "for i in range(m):\n",
    "    if iterated == k:\n",
    "        sum += nums[1]\n",
    "        iterated = 0\n",
    "    else:\n",
    "        sum += nums[0]\n",
    "        iterated += 1\n",
    "        \n",
    "print(sum)"
   ]
  },
  {
   "cell_type": "code",
   "execution_count": 14,
   "id": "e880d30d",
   "metadata": {},
   "outputs": [
    {
     "name": "stdout",
     "output_type": "stream",
     "text": [
      "5 8 3\n",
      "2 4 5 4 6\n",
      "46\n"
     ]
    }
   ],
   "source": [
    "# 수열을 이용한 방법\n",
    "n, m, k = map(int, input().split())\n",
    "nums = list(map(int, input().split()))\n",
    "nums.sort(reverse=True)\n",
    "\n",
    "# (반복횟수) * (반복구간 총합) + (나머지 부분 총합)\n",
    "print((m // (k + 1)) * (nums[0] * k + nums[1]) + nums[0] * m % (k + 1))"
   ]
  },
  {
   "cell_type": "code",
   "execution_count": 16,
   "id": "1637fe5c",
   "metadata": {},
   "outputs": [
    {
     "name": "stdout",
     "output_type": "stream",
     "text": [
      "2 4\n",
      "7 3 1 8\n",
      "3 3 3 4\n",
      "3\n"
     ]
    }
   ],
   "source": [
    "n, m = map(int, input().split())\n",
    "arr = []\n",
    "for _ in range(n):\n",
    "    arr.append(list(map(int, input().split())))\n",
    "    \n",
    "mins = []\n",
    "for item in arr:\n",
    "    mins.append(min(item))\n",
    "    \n",
    "print(max(mins))"
   ]
  },
  {
   "cell_type": "code",
   "execution_count": 17,
   "id": "5740e8a9",
   "metadata": {},
   "outputs": [
    {
     "name": "stdout",
     "output_type": "stream",
     "text": [
      "25 5\n",
      "2\n"
     ]
    }
   ],
   "source": [
    "n, k = map(int, input().split())\n",
    "\n",
    "count = 0\n",
    "while n != 1:\n",
    "    if n % k == 0:\n",
    "        n /= k\n",
    "    else:\n",
    "        n -= 1\n",
    "    count += 1\n",
    "\n",
    "print(count)"
   ]
  },
  {
   "cell_type": "code",
   "execution_count": 19,
   "id": "09aba961",
   "metadata": {},
   "outputs": [
    {
     "name": "stdout",
     "output_type": "stream",
     "text": [
      "25 5\n",
      "2\n"
     ]
    }
   ],
   "source": [
    "n, k = map(int, input().split())\n",
    "\n",
    "count = 0\n",
    "while True:\n",
    "    if n < k:\n",
    "        break\n",
    "    count += n % k\n",
    "    n = n // k\n",
    "    count += 1\n",
    "\n",
    "count += n - 1\n",
    "print(count)"
   ]
  }
 ],
 "metadata": {
  "kernelspec": {
   "display_name": "Python 3",
   "language": "python",
   "name": "python3"
  },
  "language_info": {
   "codemirror_mode": {
    "name": "ipython",
    "version": 3
   },
   "file_extension": ".py",
   "mimetype": "text/x-python",
   "name": "python",
   "nbconvert_exporter": "python",
   "pygments_lexer": "ipython3",
   "version": "3.8.8"
  }
 },
 "nbformat": 4,
 "nbformat_minor": 5
}
