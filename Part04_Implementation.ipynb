{
 "cells": [
  {
   "cell_type": "code",
   "execution_count": 3,
   "id": "745058bc",
   "metadata": {},
   "outputs": [
    {
     "name": "stdout",
     "output_type": "stream",
     "text": [
      "5\n",
      "R R R U D D\n",
      "3 4\n"
     ]
    }
   ],
   "source": [
    "n = int(input())\n",
    "ops = input().split()\n",
    "\n",
    "minX = 0\n",
    "minY = 0\n",
    "maxX = n - 1\n",
    "maxY = n - 1\n",
    "\n",
    "x = 0\n",
    "y = 0\n",
    "\n",
    "for op in ops:\n",
    "    if op == 'R' and x != maxX:\n",
    "        x += 1\n",
    "    elif op == 'L' and x != minX:\n",
    "        x -= 1\n",
    "    elif op == 'U' and y != minY:\n",
    "        y -= 1\n",
    "    elif op == 'D' and y != maxY:\n",
    "        y += 1\n",
    "\n",
    "print(y + 1,x + 1)"
   ]
  },
  {
   "cell_type": "code",
   "execution_count": 5,
   "id": "02bd4c47",
   "metadata": {},
   "outputs": [
    {
     "name": "stdout",
     "output_type": "stream",
     "text": [
      "5\n",
      "R R R U D D\n",
      "3 4\n"
     ]
    }
   ],
   "source": [
    "n = int(input())\n",
    "x, y = 1, 1\n",
    "ops = input().split()\n",
    "\n",
    "# U D L R\n",
    "dx = [-1, 1, 0, 0]\n",
    "dy = [0, 0, -1, 1]\n",
    "types = ['U', 'D', 'L', 'R']\n",
    "\n",
    "for op in ops:\n",
    "    mx, my = 0, 0\n",
    "    for i in range(len(types)):\n",
    "        if types[i] == op:\n",
    "            mx = x + dx[i]\n",
    "            my = y + dy[i]\n",
    "        if mx < 1 or mx > n or my < 1 or my > n:\n",
    "            continue\n",
    "        x, y = mx, my\n",
    "        \n",
    "print(x, y)\n",
    "        "
   ]
  },
  {
   "cell_type": "code",
   "execution_count": 9,
   "id": "66526920",
   "metadata": {},
   "outputs": [
    {
     "name": "stdout",
     "output_type": "stream",
     "text": [
      "5\n",
      "11475\n"
     ]
    }
   ],
   "source": [
    "n = int(input())\n",
    "\n",
    "count = 0\n",
    "for h in range(n + 1):\n",
    "    for m in range(60):\n",
    "        for s in range(60):\n",
    "            if '3' in str(h) + str(m) + str(s):\n",
    "                count += 1\n",
    "\n",
    "print(count)"
   ]
  },
  {
   "cell_type": "code",
   "execution_count": 10,
   "id": "17ea53ad",
   "metadata": {},
   "outputs": [
    {
     "name": "stdout",
     "output_type": "stream",
     "text": [
      "a1\n",
      "2\n"
     ]
    }
   ],
   "source": [
    "v = input()\n",
    "row = int(v[1:])\n",
    "col = ['a', 'b', 'c', 'd', 'e', 'f', 'g', 'h'].index(v[:1]) + 1\n",
    "\n",
    "firstOp = [2, -2]\n",
    "secondOp = [1, -1]\n",
    "\n",
    "count = 0\n",
    "for f in firstOp:\n",
    "    for s in secondOp:\n",
    "        if row + f >= 1 and row + f <= 8 and col + s >= 1 and col + s <= 8:\n",
    "            count += 1\n",
    "        if row + s >= 1 and row + s <= 8 and col + f >= 1 and col + f <= 8:\n",
    "            count += 1\n",
    "\n",
    "print(count)"
   ]
  },
  {
   "cell_type": "code",
   "execution_count": 16,
   "id": "e60cfb42",
   "metadata": {},
   "outputs": [
    {
     "name": "stdout",
     "output_type": "stream",
     "text": [
      "4 4\n",
      "1 1 0\n",
      "1 1 1 1 \n",
      "1 0 0 1\n",
      "1 1 0 1\n",
      "1 1 1 1\n",
      "3\n"
     ]
    }
   ],
   "source": [
    "n, m = map(int, input().split())\n",
    "x, y, dirc = map(int, input().split())\n",
    "\n",
    "arr = []\n",
    "visit = [(x, y)]\n",
    "for _ in range(n):\n",
    "    arr.append(list(map(int, input().split())))\n",
    "\n",
    "def getLeft():\n",
    "    target = (0, 0)\n",
    "    if dirc == 1:\n",
    "        if x == 0:\n",
    "            return -1\n",
    "        else:\n",
    "            return (x - 1, y)\n",
    "    elif dirc == 0:\n",
    "        if y == 0:\n",
    "            return -1\n",
    "        else:\n",
    "            return (x, y - 1)\n",
    "    elif dirc == 3:\n",
    "        if x == n - 1:\n",
    "            return -1\n",
    "        else:\n",
    "            return (x + 1, y)\n",
    "    elif dirc == 2:\n",
    "        if y == m - 1:\n",
    "            return -1\n",
    "        else:\n",
    "            return (x, y  + 1)\n",
    "\n",
    "def rotate():\n",
    "    global dirc\n",
    "    dirc -= 1\n",
    "    if dirc == -1:\n",
    "        dirc = 3\n",
    "        \n",
    "def isOver():\n",
    "    if (x != 0 and arr[x - 1][y] == 0) \\\n",
    "    or (x != n - 1 and arr[x + 1][y] == 0) \\\n",
    "    or (y != 0 and arr[x][y - 1] == 0) \\\n",
    "    or (y != m - 1 and arr[x][y + 1] == 0):\n",
    "        return False\n",
    "    else:\n",
    "        return True\n",
    "        \n",
    "while not isOver():\n",
    "    if getLeft() != -1:\n",
    "        lx, ly = getLeft()\n",
    "        if (lx, ly) not in visit:\n",
    "            x, y = (lx, ly)\n",
    "            visit.append((lx, ly))\n",
    "        rotate()\n",
    "        \n",
    "print(len(visit))"
   ]
  }
 ],
 "metadata": {
  "kernelspec": {
   "display_name": "Python 3",
   "language": "python",
   "name": "python3"
  },
  "language_info": {
   "codemirror_mode": {
    "name": "ipython",
    "version": 3
   },
   "file_extension": ".py",
   "mimetype": "text/x-python",
   "name": "python",
   "nbconvert_exporter": "python",
   "pygments_lexer": "ipython3",
   "version": "3.8.8"
  }
 },
 "nbformat": 4,
 "nbformat_minor": 5
}
